{
  "nbformat": 4,
  "nbformat_minor": 0,
  "metadata": {
    "colab": {
      "provenance": []
    },
    "kernelspec": {
      "name": "python3",
      "display_name": "Python 3"
    },
    "language_info": {
      "name": "python"
    }
  },
  "cells": [
    {
      "cell_type": "code",
      "source": [
        "def error(f, x, y):\n",
        "    return np.sum((f(x)-y)**2)\n",
        "\n",
        "# рефакторинг этой функции: найти в документации\n",
        "# как вычисляется MSE с помощью scipy\n",
        "\n",
        "from sklearn.metrics import mean_squared_error\n",
        "from math import sqrt"
      ],
      "metadata": {
        "id": "6vrqZh8JVA7W"
      },
      "execution_count": null,
      "outputs": []
    },
    {
      "cell_type": "markdown",
      "source": [
        "Загрузка данных"
      ],
      "metadata": {
        "id": "Ffh3KjZ-g9kY"
      }
    },
    {
      "cell_type": "code",
      "source": [
        "import numpy as np\n",
        "import matplotlib.pyplot as plt\n",
        "\n",
        "data = np.genfromtxt(\"ex1data2.txt\", delimiter=\",\", skip_header=1, dtype='uint64')\n",
        "\n",
        "square_house = data[:,0]\n",
        "number_of_rooms = data[:,1]\n",
        "cost = data[:,2]"
      ],
      "metadata": {
        "id": "19bQkGdZdUky"
      },
      "execution_count": null,
      "outputs": []
    },
    {
      "cell_type": "markdown",
      "source": [
        "Визуализация данных (отношение числа комнат к стоимости)"
      ],
      "metadata": {
        "id": "pREEIsnUiUdv"
      }
    },
    {
      "cell_type": "code",
      "source": [
        "plt.scatter(number_of_rooms, cost, s=10)\n",
        "plt.title('Отношение числа комнат к стоимости')\n",
        "plt.xlabel(\"Число комнат\")\n",
        "plt.ylabel(\"Стоимость\")\n",
        "plt.xticks([i for i in range(1, 6)])\n",
        "plt.show()"
      ],
      "metadata": {
        "colab": {
          "base_uri": "https://localhost:8080/",
          "height": 295
        },
        "outputId": "efc2dd78-b430-42d3-e0a4-faf9ac28c60b",
        "id": "gAODJ4YRib9I"
      },
      "execution_count": null,
      "outputs": [
        {
          "output_type": "display_data",
          "data": {
            "text/plain": [
              "<Figure size 432x288 with 1 Axes>"
            ],
            "image/png": "[encoded data removed]"
          },
          "metadata": {
            "needs_background": "light"
          }
        }
      ]
    },
    {
      "cell_type": "markdown",
      "source": [
        "Визуализация данных и линейная модель (отношение площади к стоимости)"
      ],
      "metadata": {
        "id": "cyeu8ST3hUD4"
      }
    },
    {
      "cell_type": "code",
      "source": [
        "f1p, residuals, rank, sv, rcond = np.polyfit(square_house, cost, 1, full=True)\n",
        "f1 = np.poly1d(f1p)\n",
        "fx = np.linspace(0, max(square_house), len(square_house)) \n",
        "\n",
        "plt.scatter(square_house, cost, s=10)\n",
        "plt.plot(fx,f1(fx),linewidth=1.0,color='r')\n",
        "plt.title('Отношение площади жилья к стоимости')\n",
        "plt.xlabel(\"Площадь\")\n",
        "plt.ylabel(\"Стоимость\")\n",
        "plt.show()\n",
        "\n",
        "print(f\"Ошибка данной модели: {error(f1, square_house, cost):.5}\")\n",
        "print(f\"{sqrt(mean_squared_error(list(map(f1, square_house)), cost)):.5}\")"
      ],
      "metadata": {
        "colab": {
          "base_uri": "https://localhost:8080/",
          "height": 330
        },
        "id": "AuBD5i6nhWXr",
        "outputId": "199ca6c9-18b4-4b48-c1e4-1e031439db01"
      },
      "execution_count": null,
      "outputs": [
        {
          "output_type": "display_data",
          "data": {
            "text/plain": [
              "<Figure size 432x288 with 1 Axes>"
            ],
            "image/png": "[encoded data removed]"
          },
          "metadata": {
            "needs_background": "light"
          }
        },
        {
          "output_type": "stream",
          "name": "stdout",
          "text": [
            "Ошибка данной модели: 1.9346e+11\n",
            "6.4158e+04\n"
          ]
        }
      ]
    },
    {
      "cell_type": "markdown",
      "source": [
        "Полиномиальные модели (степени 2 и 3), учитывающие только размер жилья"
      ],
      "metadata": {
        "id": "gW49HW90jhU4"
      }
    },
    {
      "cell_type": "code",
      "source": [
        "f2p, residuals, rank, sv, rcond = np.polyfit(square_house, cost, 2, full=True)\n",
        "f2 = np.poly1d(f2p)\n",
        "\n",
        "f3p, residuals, rank, sv, rcond = np.polyfit(square_house, cost, 3, full=True)\n",
        "f3 = np.poly1d(f3p)\n",
        "\n",
        "plt.scatter(square_house, cost, s=10)\n",
        "plt.plot(fx, f2(fx), linewidth=1.0, color='blue')\n",
        "plt.plot(fx, f3(fx), linewidth=1.0, color='magenta')\n",
        "plt.title('Отношение площади жилья к стоимости')\n",
        "plt.xlabel(\"Площадь\")\n",
        "plt.ylabel(\"Стоимость\")\n",
        "plt.show()\n",
        "\n",
        "print(f\"Ошибка модели степени 2: {error(f2, square_house, cost):.5}\")\n",
        "print(f\"Ошибка модели степени 3: {error(f3, square_house, cost):.5}\")"
      ],
      "metadata": {
        "colab": {
          "base_uri": "https://localhost:8080/",
          "height": 330
        },
        "outputId": "ae4d81fe-b8df-474d-d3a3-7f93af77d901",
        "id": "SKXAYkzUjrAd"
      },
      "execution_count": null,
      "outputs": [
        {
          "output_type": "display_data",
          "data": {
            "text/plain": [
              "<Figure size 432x288 with 1 Axes>"
            ],
            "image/png": "[encoded data removed]"
          },
          "metadata": {
            "needs_background": "light"
          }
        },
        {
          "output_type": "stream",
          "name": "stdout",
          "text": [
            "Ошибка модели степени 2: 1.9342e+11\n",
            "Ошибка модели степени 3: 1.8844e+11\n"
          ]
        }
      ]
    },
    {
      "cell_type": "markdown",
      "source": [
        "Линейная модель (с помощью scikit-learn), которая учитывала бы размер жилья и количество комнат"
      ],
      "metadata": {
        "id": "sWWXwmaZw9ud"
      }
    },
    {
      "cell_type": "code",
      "source": [
        "import pandas as pd\n",
        "from sklearn.linear_model import LinearRegression\n",
        "from sklearn.metrics import mean_squared_error\n",
        "\n",
        "X = pd.DataFrame(zip(square_house, number_of_rooms), columns = ['sq', 'num'])\n",
        "Y = cost\n",
        "lin_reg = LinearRegression()\n",
        "lin_reg.fit(X.values, Y)\n",
        "\n",
        "test = lin_reg.predict(X.values)\n",
        "print(f\"Ошибка данной модели: {error(lin_reg.predict, X.values, Y):.5}\")"
      ],
      "metadata": {
        "colab": {
          "base_uri": "https://localhost:8080/"
        },
        "id": "jcueWIyCxAhn",
        "outputId": "544d1cb6-d91f-4930-a13f-adfceae7dc4e"
      },
      "execution_count": null,
      "outputs": [
        {
          "output_type": "stream",
          "name": "stdout",
          "text": [
            "Ошибка данной модели: 1.9207e+11\n"
          ]
        }
      ]
    },
    {
      "cell_type": "markdown",
      "source": [
        "Предскажите значения для двух объектах недвижимости с использованием этих трех моделей: 1650,3; 2200,4"
      ],
      "metadata": {
        "id": "cZhCsZiU0zU_"
      }
    },
    {
      "cell_type": "code",
      "source": [
        "# линейная модель, учитывающая размер и кол-во\n",
        "test = pd.DataFrame(zip([1650, 2200], [3, 4]))\n",
        "pred = lin_reg.predict(test.values)\n",
        "print(f\"Результаты по лин. модели с учётом размера и кол-ва комнат: {[f'{x:.2f}' for x in pred]}\")\n",
        "\n",
        "# лин модель по площади жилья\n",
        "pred1 = f1(test.values)\n",
        "print(f\"Результаты по лин. модели с учётом размера: {[f'{x:.2f}' for x in pred1[:,0]]}\")\n",
        "\n",
        "# пол модель 2 степени\n",
        "pred2 = f2(test.values)\n",
        "print(f\"Результаты по пол. модели 2 степени с учётом размера: {[f'{x:.2f}' for x in pred2[:,0]]}\")\n",
        "\n",
        "# пол модель 3 степени\n",
        "pred3 = f3(test.values)\n",
        "print(f\"Результаты по пол. модели 3 степени с учётом размера: {[f'{x:.2f}' for x in pred3[:,0]]}\")"
      ],
      "metadata": {
        "colab": {
          "base_uri": "https://localhost:8080/"
        },
        "id": "9A-S9jZl0yfe",
        "outputId": "9008b040-f0ff-4d17-89c9-bd9ce8ef14ae"
      },
      "execution_count": null,
      "outputs": [
        {
          "output_type": "stream",
          "name": "stdout",
          "text": [
            "Результаты по лин. модели с учётом размера и кол-ва комнат: ['293081.46', '360909.32']\n",
            "Результаты по лин. модели с учётом размера: ['293237.22', '367226.13']\n",
            "Результаты по пол. модели 2 степени с учётом размера: ['293387.08', '368112.59']\n",
            "Результаты по пол. модели 3 степени с учётом размера: ['285422.83', '365824.75']\n"
          ]
        }
      ]
    }
  ]
}
