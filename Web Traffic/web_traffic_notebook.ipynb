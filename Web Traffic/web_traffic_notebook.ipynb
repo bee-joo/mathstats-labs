{
  "nbformat": 4,
  "nbformat_minor": 0,
  "metadata": {
    "colab": {
      "provenance": [],
      "collapsed_sections": []
    },
    "kernelspec": {
      "name": "python3",
      "display_name": "Python 3"
    },
    "language_info": {
      "name": "python"
    }
  },
  "cells": [
    {
      "cell_type": "markdown",
      "source": [
        "# Лабораторная работа 5\n",
        "\n",
        "Решение задачи регрессии"
      ],
      "metadata": {
        "id": "UGDMfzAGHVt2"
      }
    },
    {
      "cell_type": "code",
      "source": [
        "import pandas as pd\n",
        "import scipy as sp\n",
        "\n",
        "import matplotlib.pyplot as plt"
      ],
      "metadata": {
        "id": "0IznhyPOIQTy"
      },
      "execution_count": null,
      "outputs": []
    },
    {
      "cell_type": "code",
      "source": [
        "%matplotlib inline"
      ],
      "metadata": {
        "id": "heOwQ6MOJBQf"
      },
      "execution_count": null,
      "outputs": []
    },
    {
      "cell_type": "code",
      "source": [
        "data = pd.read_csv('web_traffic.tsv', delimiter='\\t', names=[\"hour\", \"requests\"]).dropna()\n",
        "\n",
        "target_var_name = 'requests'\n",
        "\n",
        "hours_data = data['hour']\n",
        "requests_data = data[target_var_name]\n",
        "\n",
        "import numpy as np\n",
        "from numpy import isnan\n",
        "\n",
        "requests_data.head()"
      ],
      "metadata": {
        "colab": {
          "base_uri": "https://localhost:8080/"
        },
        "id": "T_k5SeDBJJNj",
        "outputId": "38ba9213-580b-49e1-a799-7ece0989e531"
      },
      "execution_count": null,
      "outputs": [
        {
          "output_type": "execute_result",
          "data": {
            "text/plain": [
              "0    2272.0\n",
              "2    1386.0\n",
              "3    1365.0\n",
              "4    1488.0\n",
              "5    1337.0\n",
              "Name: requests, dtype: float64"
            ]
          },
          "metadata": {},
          "execution_count": 3
        }
      ]
    },
    {
      "cell_type": "code",
      "source": [
        "plt.scatter(hours_data, requests_data, s=3)\n",
        "plt.title('Трафик веб-сайта за последний месяц')\n",
        "\n",
        "plt.xlabel('Время')\n",
        "plt.ylabel('Запросы/час')\n",
        "\n",
        "plt.xticks([w*7*24 for w in range(10)], ['Неделя %i' %w for w in range(10)])\n",
        "plt.autoscale(tight=False)\n",
        "\n",
        "plt.grid(True, linestyle='-', color='0.75')\n",
        "plt.show()"
      ],
      "metadata": {
        "colab": {
          "base_uri": "https://localhost:8080/",
          "height": 295
        },
        "id": "QBJqaILpOM5E",
        "outputId": "7438c8fe-9f6c-4a6d-d7fc-248b6743b9a6"
      },
      "execution_count": null,
      "outputs": [
        {
          "output_type": "display_data",
          "data": {
            "text/plain": [
              "<Figure size 432x288 with 1 Axes>"
            ],
            "image/png": "[encoded data removed]"
          },
          "metadata": {
            "needs_background": "light"
          }
        }
      ]
    },
    {
      "cell_type": "code",
      "source": [
        "def error(f, x, y):\n",
        "    return np.sum((f(x)-y)**2)\n",
        "\n",
        "# рефакторинг этой функции: найти в документации\n",
        "# как вычисляется MSE с помощью scipy\n",
        "from sklearn.metrics import mean_squared_error\n",
        "from math import sqrt"
      ],
      "metadata": {
        "id": "6vrqZh8JVA7W"
      },
      "execution_count": null,
      "outputs": []
    },
    {
      "cell_type": "code",
      "source": [
        "# два предположения по поводу тренда:\n",
        "\n",
        "# 1 - один линейный или квадратичный тренд\n",
        "# 2 - не один тренд, а два - линейных или один линейный, а второй - квадратичный\n",
        "# где-то по границе 3.5 недели\n",
        "\n",
        "f1p, residuals, rank, sv, rcond = np.polyfit(hours_data, requests_data, 1, full=True)\n",
        "print(\"Параметры модели {}\".format(f1p))"
      ],
      "metadata": {
        "colab": {
          "base_uri": "https://localhost:8080/"
        },
        "id": "RgW3l3gBVUw4",
        "outputId": "14edeb89-a951-44cd-aed0-80449f2430ec"
      },
      "execution_count": null,
      "outputs": [
        {
          "output_type": "stream",
          "name": "stdout",
          "text": [
            "Параметры модели [  2.59619213 989.02487106]\n"
          ]
        }
      ]
    },
    {
      "cell_type": "code",
      "source": [
        "f1 = np.poly1d(f1p)\n",
        "print(f\"{error(f1, hours_data, requests_data):.5}\")\n",
        "print(f\"{mean_squared_error(list(map(f1, hours_data)), requests_data):.5}\")"
      ],
      "metadata": {
        "colab": {
          "base_uri": "https://localhost:8080/"
        },
        "id": "vloJQFllXHpY",
        "outputId": "ae76462f-1a9a-4925-c717-208042901d9b"
      },
      "execution_count": null,
      "outputs": [
        {
          "output_type": "stream",
          "name": "stdout",
          "text": [
            "3.1739e+08\n",
            "4.3182e+05\n"
          ]
        }
      ]
    },
    {
      "cell_type": "markdown",
      "source": [
        "Таким образом, наша модель будет выглядеть следующим образом:\n",
        "```\n",
        "f(x) = 2.59619213 * x + 989.02487106\n",
        "```\n",
        "MSE: `3.1739e+08`"
      ],
      "metadata": {
        "id": "WLxk9JuAW0QN"
      }
    },
    {
      "cell_type": "code",
      "source": [
        "plt.scatter(hours_data, requests_data, s=3)\n",
        "\n",
        "plt.title('Трафик веб-сайта за последний месяц')\n",
        "\n",
        "plt.xlabel('Время')\n",
        "plt.ylabel('Запросы/час')\n",
        "\n",
        "plt.xticks([w*7*24 for w in range(10)], ['Неделя %i' %w for w in range(10)])\n",
        "plt.autoscale(tight=False)\n",
        "\n",
        "plt.grid(True, linestyle='-', color='0.75')\n",
        "\n",
        "\n",
        "# отобразим модель #1\n",
        "len_h = len(hours_data)\n",
        "f1x = np.linspace(0, hours_data[len_h], len_h)\n",
        "f1y = f1(f1x)\n",
        "plt.plot(f1x, f1y, linewidth=2.0, color='r')\n",
        "\n",
        "\n",
        "plt.show()"
      ],
      "metadata": {
        "colab": {
          "base_uri": "https://localhost:8080/",
          "height": 295
        },
        "id": "mks9MJpiX_W9",
        "outputId": "a6c4d54b-6cb8-4dee-da69-c100e2b199dd"
      },
      "execution_count": null,
      "outputs": [
        {
          "output_type": "display_data",
          "data": {
            "text/plain": [
              "<Figure size 432x288 with 1 Axes>"
            ],
            "image/png": "[encoded data removed]"
          },
          "metadata": {
            "needs_background": "light"
          }
        }
      ]
    },
    {
      "cell_type": "markdown",
      "source": [
        "## Самостоятельная работа\n",
        "\n",
        "1. Реализовать модели степени полинома 2, 3, 5, 10, 20\n",
        "2. Посчитать для каждой из них метрику ошибки MSE и дать характеристику (какая меньше, какая больше)\n",
        "3. Визуализировать каждую модель на одном графике"
      ],
      "metadata": {
        "id": "aRHGOBv2aQ88"
      }
    },
    {
      "cell_type": "code",
      "source": [
        " # полином 2\n",
        "f2p, residuals, rank, sv, rcond = np.polyfit(hours_data, requests_data, 2, full=True)\n",
        "f2 = np.poly1d(f2p)\n",
        "\n",
        "print(f\"{error(f2, hours_data, requests_data):.5}\")\n",
        "print(\"Параметры модели {}\".format(f2p))"
      ],
      "metadata": {
        "colab": {
          "base_uri": "https://localhost:8080/"
        },
        "id": "lByVJi-hfzhc",
        "outputId": "62c2b284-9d95-4c65-cc15-d797ef901bd0"
      },
      "execution_count": null,
      "outputs": [
        {
          "output_type": "stream",
          "name": "stdout",
          "text": [
            "1.7998e+08\n",
            "Параметры модели [ 1.05322215e-02 -5.26545650e+00  1.97476082e+03]\n"
          ]
        }
      ]
    },
    {
      "cell_type": "code",
      "source": [
        "# полином 3\n",
        "f3p, residuals, rank, sv, rcond = np.polyfit(hours_data, requests_data, 3, full=True)\n",
        "f3 = np.poly1d(f3p)\n",
        "\n",
        "print(f\"{error(f3, hours_data, requests_data):.5}\")\n",
        "print(\"Параметры модели {}\".format(f3p))"
      ],
      "metadata": {
        "colab": {
          "base_uri": "https://localhost:8080/"
        },
        "id": "10LS_RtEkl_o",
        "outputId": "16cfc521-4f58-4c92-8f3e-11cc90148828"
      },
      "execution_count": null,
      "outputs": [
        {
          "output_type": "stream",
          "name": "stdout",
          "text": [
            "1.3935e+08\n",
            "Параметры модели [ 3.04960132e-05 -2.35893797e-02  4.94226019e+00  1.33328797e+03]\n"
          ]
        }
      ]
    },
    {
      "cell_type": "code",
      "source": [
        "# полином 5\n",
        "f5p, residuals, rank, sv, rcond = np.polyfit(hours_data, requests_data, 5, full=True)\n",
        "f5 = np.poly1d(f5p)\n",
        "\n",
        "print(f\"{error(f5, hours_data, requests_data):.5}\")\n",
        "print(\"Параметры модели {}\".format(f5p))"
      ],
      "metadata": {
        "colab": {
          "base_uri": "https://localhost:8080/"
        },
        "id": "T9I68tKHkxTW",
        "outputId": "1f490d13-ed10-4ad8-a379-230049c15395"
      },
      "execution_count": null,
      "outputs": [
        {
          "output_type": "stream",
          "name": "stdout",
          "text": [
            "1.2446e+08\n",
            "Параметры модели [ 2.16470951e-10 -3.13405153e-07  1.63844797e-04 -3.41497485e-02\n",
            "  2.24785575e+00  1.53616050e+03]\n"
          ]
        }
      ]
    },
    {
      "cell_type": "code",
      "source": [
        "# полином 10\n",
        "f10p, residuals, rank, sv, rcond = np.polyfit(hours_data, requests_data, 10, full=True)\n",
        "f10 = np.poly1d(f10p)\n",
        "\n",
        "print(f\"{error(f10, hours_data, requests_data):.5}\")\n",
        "print(\"Параметры модели {}\".format(f10p))"
      ],
      "metadata": {
        "colab": {
          "base_uri": "https://localhost:8080/"
        },
        "id": "V3Y95D9ik5oF",
        "outputId": "f80bc373-2036-470e-e786-5510e424e97e"
      },
      "execution_count": null,
      "outputs": [
        {
          "output_type": "stream",
          "name": "stdout",
          "text": [
            "1.2194e+08\n",
            "Параметры модели [-3.73981968e-22  1.36473756e-18 -2.14294406e-15  1.89884971e-12\n",
            " -1.04570108e-09  3.70867731e-07 -8.45604588e-05  1.19167041e-02\n",
            " -9.41618606e-01  3.33703840e+01  1.26421204e+03]\n"
          ]
        }
      ]
    },
    {
      "cell_type": "code",
      "source": [
        "# полином 20\n",
        "f20p, residuals, rank, sv, rcond = np.polyfit(hours_data, requests_data, 20, full=True)\n",
        "f20 = np.poly1d(f20p)\n",
        "\n",
        "print(f\"{error(f20, hours_data, requests_data):.5}\")\n",
        "print(\"Параметры модели {}\".format(f20p))"
      ],
      "metadata": {
        "colab": {
          "base_uri": "https://localhost:8080/"
        },
        "id": "5IlDuB1FlAag",
        "outputId": "c2b690e5-0759-4911-9b3a-eb970ef4595d"
      },
      "execution_count": null,
      "outputs": [
        {
          "output_type": "stream",
          "name": "stdout",
          "text": [
            "1.1053e+08\n",
            "Параметры модели [ 4.83090666e-47 -3.18254288e-43  8.87216773e-40 -1.31484635e-36\n",
            "  9.87793047e-34 -8.55503070e-32 -5.09644269e-28  3.80311873e-25\n",
            "  4.98732305e-23 -2.74831025e-19  2.35473549e-16 -1.17298303e-13\n",
            "  3.93132320e-11 -9.23453278e-09  1.52942330e-06 -1.76098283e-04\n",
            "  1.36396780e-02 -6.69561733e-01  1.86541701e+01 -2.35174285e+02\n",
            "  2.33820200e+03]\n"
          ]
        }
      ]
    },
    {
      "cell_type": "code",
      "source": [
        "plt.scatter(hours_data, requests_data, s=3)\n",
        "\n",
        "plt.title('Трафик веб-сайта за последний месяц')\n",
        "\n",
        "plt.xlabel('Время')\n",
        "plt.ylabel('Запросы/час')\n",
        "\n",
        "plt.xticks([w*7*24 for w in range(10)], ['Неделя %i' %w for w in range(10)])\n",
        "plt.autoscale(tight=False)\n",
        "\n",
        "plt.grid(True, linestyle='-', color='0.75')\n",
        "\n",
        "\n",
        "# отобразим модель #1\n",
        "len_h = len(hours_data)\n",
        "f1x = np.linspace(0, hours_data[len_h], len_h)\n",
        "f1y = f1(f1x)\n",
        "plt.plot(f1x, f1y, linewidth=2.0, color='black')\n",
        "\n",
        "# отобразим модель #2\n",
        "f2y = f2(f1x)\n",
        "plt.plot(f1x, f2y, linewidth=2.0, color='blue')\n",
        "\n",
        "# отобразим модель #3\n",
        "f3y = f3(f1x)\n",
        "plt.plot(f1x, f3y, linewidth=2.0, color='lime')\n",
        "\n",
        "# отобразим модель #5\n",
        "f5y = f5(f1x)\n",
        "plt.plot(f1x, f5y, linewidth=2.0, color='magenta')\n",
        "\n",
        "# отобразим модель #10\n",
        "f10y = f10(f1x)\n",
        "plt.plot(f1x, f10y, linewidth=2.0, color='cyan')\n",
        "\n",
        "# отобразим модель #20\n",
        "f20y = f20(f1x)\n",
        "plt.plot(f1x, f20y, linewidth=2.0, color='red')\n",
        "\n",
        "plt.show()"
      ],
      "metadata": {
        "colab": {
          "base_uri": "https://localhost:8080/",
          "height": 295
        },
        "id": "yqa3wSZ8lMTp",
        "outputId": "fa65c5ab-fd54-46b8-96c3-6e39538c8e8a"
      },
      "execution_count": null,
      "outputs": [
        {
          "output_type": "display_data",
          "data": {
            "text/plain": [
              "<Figure size 432x288 with 1 Axes>"
            ],
            "image/png": "[encoded data removed]"
          },
          "metadata": {
            "needs_background": "light"
          }
        }
      ]
    },
    {
      "cell_type": "code",
      "source": [
        "divider = int(3.5*7*24)\n",
        "divider2 = int(4.1*7*24)\n",
        "\n",
        "hours_data_1, requests_data_1 = hours_data[:divider], requests_data[:divider]\n",
        "hours_data_2, requests_data_2 = hours_data[divider:], requests_data[divider:]\n",
        "\n",
        "hours_data_test, requests_data_test = hours_data[divider2:], requests_data[divider2:]"
      ],
      "metadata": {
        "id": "3dnIiQe1sY1p"
      },
      "execution_count": null,
      "outputs": []
    },
    {
      "cell_type": "code",
      "source": [
        "f3p, residuals, rank, sv, rcond = np.polyfit(hours_data_1, requests_data_1, 3, full=True)\n",
        "f3 = np.poly1d(f3p)\n",
        "\n",
        "print(f\"MSE (для данных ДО 3.5 недели) = {error(f3, hours_data_1, requests_data_1):.5}\")\n",
        "print(f\"MSE (только данных с 3.5 недели) = {error(f3, hours_data_2, requests_data_2):.5}\")"
      ],
      "metadata": {
        "colab": {
          "base_uri": "https://localhost:8080/"
        },
        "id": "1T7mQN-Ksx5I",
        "outputId": "a29d8a1d-adf9-4199-b20c-c4cae9b0b0b7"
      },
      "execution_count": null,
      "outputs": [
        {
          "output_type": "stream",
          "name": "stdout",
          "text": [
            "MSE (для данных ДО 3.5 недели) = 1.0159e+08\n",
            "MSE (только данных с 3.5 недели) = 8.4713e+07\n"
          ]
        }
      ]
    },
    {
      "cell_type": "code",
      "source": [
        "f20p, residuals, rank, sv, rcond = np.polyfit(hours_data, requests_data, 20, full=True)\n",
        "f20 = np.poly1d(f20p)\n",
        "\n",
        "print(f\"MSE (для данных ДО 3.5 недели) = {error(f20, hours_data_1, requests_data_1):.5}\")\n",
        "print(f\"MSE (только данных с 3.5 недели) = {error(f20, hours_data_2, requests_data_2):.5}\")"
      ],
      "metadata": {
        "colab": {
          "base_uri": "https://localhost:8080/"
        },
        "outputId": "aa697759-9ce4-4a52-8dc6-5acae93832e1",
        "id": "cARamv-CuVPm"
      },
      "execution_count": null,
      "outputs": [
        {
          "output_type": "stream",
          "name": "stdout",
          "text": [
            "MSE (для данных ДО 3.5 недели) = 9.1187e+07\n",
            "MSE (только данных с 3.5 недели) = 1.934e+07\n"
          ]
        }
      ]
    },
    {
      "cell_type": "code",
      "source": [
        "f20p, residuals, rank, sv, rcond = np.polyfit(hours_data_2, requests_data_2, 20, full=True)\n",
        "f20 = np.poly1d(f20p)\n",
        "print(f\"MSE (для данных c 3.5 недели по 4.1 недели)= {error(f20, hours_data_test, requests_data_test):.5}\")\n",
        "print(f\"MSE (только для данных с 3.5 недели)= {error(f20, hours_data_2, requests_data_2):.5}\")"
      ],
      "metadata": {
        "colab": {
          "base_uri": "https://localhost:8080/"
        },
        "id": "8XA3mCjUtyOi",
        "outputId": "9151cbb3-2626-489d-c39e-65a7a495866e"
      },
      "execution_count": null,
      "outputs": [
        {
          "output_type": "stream",
          "name": "stdout",
          "text": [
            "MSE (для данных c 3.5 недели по 4.1 недели)= 7.8668e+06\n",
            "MSE (только для данных с 3.5 недели)= 1.876e+07\n"
          ]
        }
      ]
    },
    {
      "cell_type": "markdown",
      "source": [
        "# Ответить на вопрос\n",
        "\n",
        "Какая модель для гипотезы, при которой весь набор данных представляет собой два диапазона значений (от 0 недели до 3.5 недели и с 3.5 недели до конца), подходит наилучшим образом?\n",
        "Модель, в данном случае, это степень полинома. \n",
        "Мы уже знаем (см. ячейку выше), что степень полинома 20 плохо подходит для тестовых данных (hours_data_test и requests_data_test) потому что ошибка для тестовых данных на 9 порядков выше, чем ошибка для тренировочного набора данных."
      ],
      "metadata": {
        "id": "4ZGwmyyIxD-i"
      }
    },
    {
      "cell_type": "markdown",
      "source": [
        "# Решение\n",
        "Протестируем модели степени полинома 1, 2, 3, 4, 5, 10, 20"
      ],
      "metadata": {
        "id": "enXlysTFvnRS"
      }
    },
    {
      "cell_type": "code",
      "source": [
        "degrees = [1, 2, 3, 4, 5, 10, 20]\n",
        "\n",
        "for i in degrees:\n",
        "    fip, residuals, rank, sv, rcond = np.polyfit(hours_data_1, requests_data_1, i, full=True)\n",
        "    fi = np.poly1d(fip)\n",
        "\n",
        "    before_data = error(fi, hours_data_1, requests_data_1)\n",
        "    after_data = error(fi, hours_data_2, requests_data_2)\n",
        "\n",
        "    print(f\"Степень: {i}\")\n",
        "    print(f\"MSE (для данных ДО 3.5 недели) = {before_data:.5}\")\n",
        "    print(f\"MSE (только данных с 3.5 недели) = {after_data:.5}\")\n",
        "    print(f\"Разница MSE: {(after_data - before_data):.5}\\n\")"
      ],
      "metadata": {
        "colab": {
          "base_uri": "https://localhost:8080/"
        },
        "outputId": "af373d8d-9609-4979-eff4-39a80f1e3378",
        "id": "5u_FV6vvvwHQ"
      },
      "execution_count": null,
      "outputs": [
        {
          "output_type": "stream",
          "name": "stdout",
          "text": [
            "Степень: 1\n",
            "MSE (для данных ДО 3.5 недели) = 1.1081e+08\n",
            "MSE (только данных с 3.5 недели) = 3.551e+08\n",
            "Разница MSE: 2.4429e+08\n",
            "\n",
            "Степень: 2\n",
            "MSE (для данных ДО 3.5 недели) = 1.0282e+08\n",
            "MSE (только данных с 3.5 недели) = 1.8116e+08\n",
            "Разница MSE: 7.8346e+07\n",
            "\n",
            "Степень: 3\n",
            "MSE (для данных ДО 3.5 недели) = 1.0159e+08\n",
            "MSE (только данных с 3.5 недели) = 8.4713e+07\n",
            "Разница MSE: -1.6873e+07\n",
            "\n",
            "Степень: 4\n",
            "MSE (для данных ДО 3.5 недели) = 1.0117e+08\n",
            "MSE (только данных с 3.5 недели) = 3.1047e+07\n",
            "Разница MSE: -7.0123e+07\n",
            "\n",
            "Степень: 5\n",
            "MSE (для данных ДО 3.5 недели) = 1.0116e+08\n",
            "MSE (только данных с 3.5 недели) = 4.1021e+07\n",
            "Разница MSE: -6.014e+07\n",
            "\n",
            "Степень: 10\n",
            "MSE (для данных ДО 3.5 недели) = 9.3236e+07\n",
            "MSE (только данных с 3.5 недели) = 2.1939e+13\n",
            "Разница MSE: 2.1939e+13\n",
            "\n",
            "Степень: 20\n",
            "MSE (для данных ДО 3.5 недели) = 9.0578e+07\n",
            "MSE (только данных с 3.5 недели) = 2.4825e+17\n",
            "Разница MSE: 2.4825e+17\n",
            "\n"
          ]
        }
      ]
    },
    {
      "cell_type": "markdown",
      "source": [
        "Вывод: лучше всего подойдёт 4 степень, так как ошибка у тестовых данных намного меньше чем у входных данных. Среди всех степеней разница ошибок здесь наиболее подходящая"
      ],
      "metadata": {
        "id": "hE2T02L2zaj2"
      }
    }
  ]
}
